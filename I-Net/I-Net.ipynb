{
 "cells": [
  {
   "cell_type": "code",
   "execution_count": 8,
   "metadata": {},
   "outputs": [],
   "source": [
    "import numpy as np"
   ]
  },
  {
   "cell_type": "code",
   "execution_count": 17,
   "metadata": {},
   "outputs": [
    {
     "data": {
      "text/plain": [
       "array([0, 0, 0, 0, 0, 0])"
      ]
     },
     "execution_count": 17,
     "metadata": {},
     "output_type": "execute_result"
    }
   ],
   "source": [
    "a = np.argmax(np.random.rand(3,2), axis=1)\n",
    "b = np.argmax(np.random.rand(3,2), axis=1)\n",
    "(a==b)+0\n",
    "np.concatenate([(a==b)+0, (a==b)+0])"
   ]
  },
  {
   "cell_type": "code",
   "execution_count": 37,
   "metadata": {},
   "outputs": [
    {
     "name": "stdout",
     "output_type": "stream",
     "text": [
      "2 1 2 1\n",
      "0.666666666667\n",
      "0.666666666667\n",
      "0.666666666667\n",
      "[ 0.   0.5  0.5  1. ] [ 0.5  0.5  1.   1. ]\n"
     ]
    }
   ],
   "source": [
    "from sklearn import metrics \n",
    "a = np.array([0,1,0,1,1,0])\n",
    "b = np.array([0,0,1,1,1,0])\n",
    "\n",
    "tp = sum([1 for (aa,bb) in zip(a,b) if aa==1 and bb==1])\n",
    "fp = sum([1 for (aa,bb) in zip(a,b) if aa==1 and bb==0])\n",
    "tn = sum([1 for (aa,bb) in zip(a,b) if aa==0 and bb==0])\n",
    "fn = sum([1 for (aa,bb) in zip(a,b) if aa==0 and bb==1])\n",
    "print tp, fp, tn, fn\n",
    "\n",
    "print metrics.precision_score(a, b)\n",
    "print metrics.recall_score(a, b)\n",
    "print metrics.accuracy_score(a, b)\n",
    "\n",
    "y = np.array([1, 1, 2, 2])\n",
    "pred = np.array([0.1, 0.4, 0.35, 0.8])\n",
    "fpr, tpr, thresholds = metrics.roc_curve(y, pred, pos_label=2)\n",
    "metrics.auc(fpr, tpr)\n",
    "print fpr, tpr"
   ]
  }
 ],
 "metadata": {
  "kernelspec": {
   "display_name": "Python 2",
   "language": "python",
   "name": "python2"
  },
  "language_info": {
   "codemirror_mode": {
    "name": "ipython",
    "version": 2
   },
   "file_extension": ".py",
   "mimetype": "text/x-python",
   "name": "python",
   "nbconvert_exporter": "python",
   "pygments_lexer": "ipython2",
   "version": "2.7.12"
  }
 },
 "nbformat": 4,
 "nbformat_minor": 2
}
